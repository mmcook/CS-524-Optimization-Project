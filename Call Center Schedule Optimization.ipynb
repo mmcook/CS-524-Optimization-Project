{
 "cells": [
  {
   "cell_type": "markdown",
   "metadata": {},
   "source": [
    "### CS/ECE/ISyE 524 &mdash; Introduction to Optimization &mdash; Fall 2018 ###\n",
    "\n",
    "# DoIT Help Desk Employee Scheduling Optimization #\n",
    "\n",
    "#### Meggie Cook (mcook24@wisc.edu, 9074490211)\n",
    "\n",
    "### Table of Contents\n",
    "\n",
    "1. [Introduction](#1.-Introduction)\n",
    "1. [Mathematical Model](#2.-Mathematical-model)\n",
    "1. [Solution](#3.-Solution)\n",
    "1. [Results and Discussion](#4.-Results-and-discussion)\n",
    "1. [Conclusion](#5.-Conclusion)"
   ]
  },
  {
   "cell_type": "markdown",
   "metadata": {},
   "source": [
    "## 1. Introduction ##\n",
    "\n",
    "In this project, our goal is to find the optimization model that determines the optimal employee schedule which minimizes the cost while maximizing employee satisfaction, all at the same time adhering to the constraints set by the position restrictions.\n",
    "\n",
    "The DoIT Help Desk is the IT Help Desk at University of Wisconsin-Madison, which has around 60 to 80 student employees on any given semester. The number of employees makes the process of shift scheduling difficult. Currently the employee schedule building is a tedious manual process done by several of the higher level employees. My motivation is to automate this process according to the constraints specified by our supervisor, Steve Schroeder. \n",
    "\n",
    "<img src = \"schedule.png\" style=\"height: 400px;\"></img>\n",
    "\n",
    "There are several requirements that exist when scheduling the employee shifts. The work hours are from 7AM to 11PM every day of the week, and each shift is divided into 30 minute blocks (thus there are 32 shift blocks per day). Each employee has to work between 10 to 15 hours a week, and an employee cannot work for more then 8 hours a day.The shifts can be non-consecutive.\n",
    "\n",
    "There are 4 training levels for the employees; General, Advanced, Chat/Email, and Quality Assurance. The pay rates are $\\$$9.75, $\\$$10.25, $\\$$10.50, and $\\$$11.75 respectively. Your level increases the more you train. The higher level employees can work a lower level shift, but cannot happen vice versa. For each shift block there must be 1 Quality Assurance and Chat/Email agents, and 1 or more Advanced and General agents.\n",
    "\n",
    "Furthermore, when the employees submit their availability for the semester, they mark each shift into 3 categories; Available (in Green), Prefer not to work but Available (Yellow), and Unavailable (Red). An example of the availability data is shown below. We would want to try to schedule the employees to the Available blocks as much as possible.\n",
    "\n",
    "<img src = \"available.png\" style=\"height: 400px;\"></img>\n",
    "\n",
    "The availability and training level data gathered for this project is the actual anonymous data for employees in Fall 2018. The data is contained in a .csv file. There will be 8 files; the first 8 will contain the data of \n",
    "\n",
    "This type of problem is called a Multi-Skill Hierarchical Scheduling Problem."
   ]
  },
  {
   "cell_type": "markdown",
   "metadata": {},
   "source": [
    "## 2. Mathematical model ##"
   ]
  },
  {
   "cell_type": "markdown",
   "metadata": {},
   "source": [
    "### 2.1 Assumptions ###\n",
    "\n",
    "Before we can begin developing the Optimization model, we must clarify a few assumptions we will make when creating this model.\n",
    "* First\n",
    "* Second"
   ]
  },
  {
   "cell_type": "markdown",
   "metadata": {},
   "source": [
    "### 2.2 Notation ###\n",
    "\n",
    "First, we must define all the notation and numerical values we will use to creating the schedule.\n",
    "\n",
    "$I: $ The set of shifts per day, indexed by $j ∈ J = {1, 2, ..., n} $ <br>\n",
    "There are 16 hours in a work day (from 7AM to 11PM), and each shift is broken up into 30 minute blocks. Thus, there will be 32 shifts per day. \n",
    "\n",
    "$J: $ The set of student employees working in the Help Desk, indexed by $i ∈ I = {1, 2, ..., m} $\n",
    "\n",
    "$D: $ The set of working days per week, indexed by $d ∈ D = {1, ..., 7} $ <br>\n",
    "Each day has the same hours, and the store opens 7 days a week.\n",
    "\n",
    "$L: $ The training levels of employee, $l ∈ L = {1, 2, 3, 4} $ <br>\n",
    "Each of the categories represent (by order) Quality Assurance Agent, Chat/Email Agent, Advanced Phone Agent, and General Phone Agent\n",
    "\n",
    "$C_l: $ The pay rate per hour for employee working shift type l, $C _l = {11.75, 10.50, 10.25, 9.75} $ <br>\n",
    "$l_1, l_2 ∈ L, l_1 < l_2 ⇒ C_{l_1} > C_{l_2}$"
   ]
  },
  {
   "cell_type": "markdown",
   "metadata": {},
   "source": [
    "We will also have binary variables which express if an agent has already been trained for a level or not\n",
    "\n",
    "$\n",
    "p_j = \\begin{cases}\n",
    "  1, & \\text{if agent j is trained for QA (Level 1)} \\\\\n",
    "  0, & \\text{otherwise}.\n",
    "\\end{cases}\n",
    "$\n",
    "\n",
    "$\n",
    "q_j = \\begin{cases}\n",
    "  1, & \\text{if agent j is trained for Chat/Email (Level 2)} \\\\\n",
    "  0, & \\text{otherwise}.\n",
    "\\end{cases}\n",
    "$\n",
    "\n",
    "$\n",
    "r_j = \\begin{cases}\n",
    "  1, & \\text{if agent j is trained for Advanced Agent (Level 3)} \\\\\n",
    "  0, & \\text{otherwise}.\n",
    "\\end{cases}\n",
    "$\n",
    "\n",
    "We are not creating a binary variable which determines if an agent is a General agent, because all agents are able to take Level 4 shifts, so there is no need to specify who has only been trained as Level 4. (The method of defining the hierarchy will be explained further in the constraints sections)."
   ]
  },
  {
   "cell_type": "markdown",
   "metadata": {},
   "source": [
    "### 2.3 Availability/ Shift Weighting ###\n",
    "\n",
    "Each employees submit their availabillities for the semester, listed in this form:\n",
    "\n",
    "$\n",
    "S_{ijd} = \\begin{cases}\n",
    "  TRUE, & \\text{if agent j prefers to work on shift i on day d} \\\\\n",
    "  maybe, & \\text{if agent j is available but prefers not to work on shift i on day d} \\\\\n",
    "  FALSE, & \\text{if agent j is unavailable on shift i on day d}.\n",
    "\\end{cases}\n",
    "$\n",
    "\n",
    "To form the problem, we will split this data into two matrices: Available and Preferable.\n",
    "\n",
    "$\n",
    "A_{ijd} = \\begin{cases}\n",
    "  1, & \\text{if agent j is available on shift i on day d} \\\\\n",
    "  0, & \\text{if agent j is unavailable on shift i on day d}.\n",
    "\\end{cases}\n",
    "$\n",
    "\n",
    "$\n",
    "P_{ijd} = \\begin{cases}\n",
    "  1, & \\text{if agent j prefers to work on shift i on day d} \\\\\n",
    "  0, & \\text{if agent j does not prefer to work on shift i on day d}.\n",
    "\\end{cases}\n",
    "$\n",
    "\n",
    "Our goal is to try to schedule the shifts where the employee finds it to be Available and Preferable. To do so, we will create a weighted matrix so that the preferable shifts are upweighted (using the weighting factor a) and non-preferable shifts are downweighted (using weighting factor b)."
   ]
  },
  {
   "cell_type": "markdown",
   "metadata": {},
   "source": [
    "### 2.4 Decision Variables ###\n",
    "\n",
    "There are 4 Decision Variables we will use for this problem.\n",
    "\n",
    "$\n",
    "w_{ijd} = \\begin{cases}\n",
    "  1, & \\text{if agent j is scheduled on a QA shift i on day d} \\\\\n",
    "  0, & \\text{otherwise}.\n",
    "\\end{cases}\n",
    "$\n",
    "\n",
    "$\n",
    "x_{ijd} = \\begin{cases}\n",
    "  1, & \\text{if agent j is scheduled on a Chat/Email shift i on day d} \\\\\n",
    "  0, & \\text{otherwise}.\n",
    "\\end{cases}\n",
    "$\n",
    "\n",
    "$\n",
    "y_{ijd} = \\begin{cases}\n",
    "  1, & \\text{if agent j is scheduled on an Advanced Agent shift i on day d} \\\\\n",
    "  0, & \\text{otherwise}.\n",
    "\\end{cases}\n",
    "$\n",
    "\n",
    "$\n",
    "z_{ijd} = \\begin{cases}\n",
    "  1, & \\text{iif agent j is scheduled on a General Agent shift i on day d} \\\\\n",
    "  0, & \\text{otherwise}.\n",
    "\\end{cases}\n",
    "$"
   ]
  },
  {
   "cell_type": "markdown",
   "metadata": {},
   "source": [
    "### 2.5 Constraints ###\n",
    "\n",
    "We will express the multiple requirements for working in the Help Desk as constraints\n",
    "\n",
    "Work between 10~15 hours per week\n",
    "\n",
    "$$\\sum_{i∈I} \\sum_{d∈D} w_{ijd} + x_{ijd} + y_{ijd} + z_{ijd} ≤  30 \\:∀j∈J $$\n",
    "$$\\sum_{i∈I} \\sum_{d∈D} w_{ijd} + x_{ijd} + y_{ijd} + z_{ijd} ≥ 20 \\:∀j∈J$$\n",
    "\n",
    "Must not work more than 8 hours a day\n",
    "\n",
    "$$\\sum_{i∈I} w_{ijd} + x_{ijd} + y_{ijd} + z_{ijd} ≤  16 \\:∀j∈J, d∈D$$\n",
    "\n",
    "Exactly one QA and Chat/Email agent\n",
    "\n",
    "$$\\sum_{j∈J} p_j w_{ijd} =  1 \\:∀i∈I, d∈D$$\n",
    "$$\\sum_{j∈J} q_j x_{ijd} =  1 \\:∀i∈I, d∈D$$\n",
    "\n",
    "One or more Phone agents (Advanced and General)\n",
    "\n",
    "$$\\sum_{j∈J} r_j y_{ijd} ≥  1 \\:∀i∈I, d∈D$$\n",
    "$$\\sum_{j∈J} z_{ijd} ≥  1 \\:∀i∈I, d∈D$$\n",
    "\n",
    "Business hours: 6 or more phone agents\n",
    "Sub-Business hours: 4 or more phone agents\n",
    "$$\\sum_{j∈J} y_{ijd} + z_{ijd} ≥  6 \\:\\text{for } i = 6,7,...,19,20 \\:∀d∈D$$\n",
    "$$\\sum_{j∈J} y_{ijd} + z_{ijd} ≥  4 \\:\\text{for } i = 3,...,5 \\:∀d∈D$$\n",
    "$$\\sum_{j∈J} y_{ijd} + z_{ijd} ≥  4 \\:\\text{for } i = 21,...,27 \\:∀d∈D$$\n",
    "\n",
    "SOS Constraint\n",
    "$$\\sum_{i∈I} \\sum_{j∈J} \\sum_{d∈D} w_{ijd} + x_{ijd} + y_{ijd} + z_{ijd} ≤  1 $$"
   ]
  },
  {
   "cell_type": "markdown",
   "metadata": {},
   "source": [
    "### 2.6 Objective ###\n",
    "\n",
    "We have two main objectives in this model.\n",
    "\n",
    "First, we want to minimize the cost spent for the workforce.\n",
    "\n",
    "Second, we want to maximize the employee satisfaction"
   ]
  },
  {
   "cell_type": "markdown",
   "metadata": {},
   "source": [
    "### 2.7 Standard Form ###\n",
    "\n",
    "$$\\begin{aligned}\n",
    "  \\underset{x \\in \\mathbb{R^n}}{\\text{maximize}}\\qquad& f_0(x) \\\\\n",
    "    \\text{subject to:}\\qquad& f_i(x) \\le 0 && i=1,\\dots,m\\\\\n",
    "    & h_j(x) = 0 && j=1,\\dots,r\n",
    "    \\end{aligned}$$\n",
    "    \n",
    "This model is a Mixed Integer Program."
   ]
  },
  {
   "cell_type": "markdown",
   "metadata": {},
   "source": [
    "## 3. Solution ##\n"
   ]
  },
  {
   "cell_type": "markdown",
   "metadata": {},
   "source": [
    "First, we will define the Notation & Information about Pay Rate, Training Level of each agent, and the length and amount of each shift. The training level is loaded from the file training.csv"
   ]
  },
  {
   "cell_type": "code",
   "execution_count": 4,
   "metadata": {},
   "outputs": [
    {
     "name": "stdout",
     "output_type": "stream",
     "text": [
      "63\n"
     ]
    }
   ],
   "source": [
    "using JuMP\n",
    "# Pay rate per hour tor training level 1 to 4\n",
    "C = [11.75 10.50 10.25 9.75]\n",
    "\n",
    "# Number of workdays per week\n",
    "D = 7\n",
    "\n",
    "# Number of Shifts\n",
    "I = 32\n",
    "\n",
    "# Load training level data\n",
    "training = readcsv(\"training.csv\")\n",
    "\n",
    "# Number of employees\n",
    "J = size(training,1) - 1\n",
    "\n",
    "p = zeros(Int8, J) # Level 1\n",
    "q = zeros(Int8, J) # Level 2\n",
    "r = zeros(Int8, J) # Level 3\n",
    "\n",
    "for j = 2:J+1\n",
    "    if training[j,2] == 4\n",
    "        p[j-1] = 1\n",
    "    elseif training[j,2] == 3\n",
    "        q[j-1] = 1\n",
    "    elseif training[j,2] == 2\n",
    "        r[j-1] = 1\n",
    "    end\n",
    "end"
   ]
  },
  {
   "cell_type": "markdown",
   "metadata": {},
   "source": [
    "Then we will create the Availability and Preference Matrix by reading the availability data submitted by all the employees as a .csv file."
   ]
  },
  {
   "cell_type": "code",
   "execution_count": 5,
   "metadata": {},
   "outputs": [],
   "source": [
    "using JuMP\n",
    "\n",
    "# Availability Matrix\n",
    "A = zeros(Int8, I, J, D)\n",
    "\n",
    "# Preference Matrix\n",
    "P = zeros(Int8, I, J, D)\n",
    "\n",
    "# Read availability information from csv files\n",
    "Sun = readcsv(\"Sunday.csv\")\n",
    "Mon = readcsv(\"Monday.csv\")\n",
    "Tue = readcsv(\"Tuesday.csv\")\n",
    "Wed = readcsv(\"Wednesday.csv\")\n",
    "Thur = readcsv(\"Thursday.csv\")\n",
    "Fri = readcsv(\"Friday.csv\")\n",
    "Sat = readcsv(\"Saturday.csv\")\n",
    "raw = [Sun[:,:], Mon[:,:], Tue[:,:], Wed[:,:], Thur[:,:], Fri[:,:], Sat[:,:]]\n",
    "\n",
    "# Fill in Availability and Preference matrix\n",
    "for d = 1:D\n",
    "    for i = 3:I+2\n",
    "        for j = 2:J+1\n",
    "            if raw[d][j,i] == \"TRUE\"\n",
    "                A[i-2, j-1, d] = 1\n",
    "                P[i-2, j-1, d] = 1\n",
    "            elseif raw[d][j,i] == \"maybe\"\n",
    "                A[i-2, j-1, d] = 1\n",
    "            end\n",
    "        end\n",
    "    end\n",
    "end"
   ]
  },
  {
   "cell_type": "markdown",
   "metadata": {},
   "source": [
    "After collecting the Availability and the Preference Matrix, now we will calculate the alpha values and the beta values for each agent and each then. Then, we will use those values to create a weighted preference matrix which will favor the Available blocks (marked in Green) than the Not Preferable blocks (marked in Yellow). It will also ensure that agents will not be schedules for blocks which they are Unavailable (marked in Red)."
   ]
  },
  {
   "cell_type": "code",
   "execution_count": 7,
   "metadata": {},
   "outputs": [],
   "source": [
    "# Calculate weighted preferences\n",
    "\n",
    "a = zeros(J,D) # Alpha values\n",
    "b = zeros(J,D) # Beta values\n",
    "\n",
    "# Calculate the alpha and beta values for each agent and each day\n",
    "for d = 1:D\n",
    "    for j = 1:J\n",
    "        # If Sum of Availabilities is 0, or Sum of Availabilities == Sum of Preferences, leave the value of \n",
    "        # Alpha and Beta as 0 \n",
    "        if sum(A[i,j,d] for i=1:I) != 0 && sum(A[i,j,d] for i=1:I) != sum(P[i,j,d] for i=1:I)\n",
    "            a[j,d] = (sum(A[i,j,d] for i=1:I) -  sum(P[i,j,d] for i=1:I)) / sum(A[i,j,d] for i=1:I)\n",
    "            b[j,d] = a[j,d] * (sum(P[i,j,d] for i=1:I) / (sum(A[i,j,d] for i=1:I) -  sum(P[i,j,d] for i=1:I)))\n",
    "        end\n",
    "    end\n",
    "end\n",
    "\n",
    "# Create the weighted preference matrix\n",
    "WP = zeros(I,J,D)\n",
    "\n",
    "for d = 1:D\n",
    "    for i = 1:I\n",
    "        for j = 1:J\n",
    "            if A[i,j,d] == 1 && P[i,j,d] == 1\n",
    "                WP[i,j,d] = 1 + a[j,d]\n",
    "            elseif A[i,j,d] == 1 && P[i,j,d] == 0\n",
    "                WP[i,j,d] = 1 - b[j,d]\n",
    "            end\n",
    "        end\n",
    "    end\n",
    "end"
   ]
  },
  {
   "cell_type": "markdown",
   "metadata": {},
   "source": [
    "Now we will solve the problem by defining all the decision variables and constraints."
   ]
  },
  {
   "cell_type": "code",
   "execution_count": 40,
   "metadata": {},
   "outputs": [
    {
     "name": "stdout",
     "output_type": "stream",
     "text": [
      "12962.183427795586\n"
     ]
    }
   ],
   "source": [
    "using JuMP, Cbc\n",
    "m = Model(solver = CbcSolver())\n",
    "\n",
    "# ----------------------- Variables --------------------------\n",
    "@variable(m, w[1:I, 1:J, 1:D], Bin) # Level 1 shifts\n",
    "@variable(m, x[1:I, 1:J, 1:D], Bin) # Level 2 shifts\n",
    "@variable(m, y[1:I, 1:J, 1:D], Bin) # Level 3 shifts\n",
    "@variable(m, z[1:I, 1:J, 1:D], Bin) # Level 4 shifts\n",
    "\n",
    "# ----------------------- Constraints --------------------------\n",
    "\n",
    "# Total number of shift per week must be between 10 to 15 hours\n",
    "for j = 1:J\n",
    "    @constraint(m, sum(w[i,j,d] + x[i,j,d] + y[i,j,d] + z[i,j,d] for i = 1:I, d = 1:D) <= 30)\n",
    "    @constraint(m, sum(w[i,j,d] + x[i,j,d] + y[i,j,d] + z[i,j,d] for i = 1:I, d = 1:D) >= 20)\n",
    "end\n",
    "\n",
    "# Employee must not work more than 8 hours per day\n",
    "for j = 1:J\n",
    "    for d = 1:D\n",
    "        @constraint(m, sum(w[i,j,d] + x[i,j,d] + y[i,j,d] + z[i,j,d] for i = 1:I) <= 16)\n",
    "    end\n",
    "end\n",
    "\n",
    "# Number of agents working per shift\n",
    "for i = 1:I\n",
    "    for d = 1:D\n",
    "        # There will be only 1 agent for Quality Assurance and Chat/Email\n",
    "        @constraint(m, sum(p[j] * w[i,j,d] for j = 1:J) == 1)\n",
    "        @constraint(m, sum((p[j] + q[j]) * x[i,j,d] for j = 1:J) == 1)\n",
    "        \n",
    "        # There will be 1 or more agents for Advanced and General agents\n",
    "        @constraint(m, sum((p[j] + q[j] + r[j]) * y[i,j,d] for j = 1:J) >= 1)\n",
    "        @constraint(m, sum(z[i,j,d] for j = 1:J) >= 1)\n",
    "        \n",
    "        #If it's business hours, there will be at leas 6 phone agents per shift\n",
    "        if i > 5 && i < 21\n",
    "            @constraint(m, sum(y[i,j,d] + z[i,j,d] for j = 1:J) >= 6)\n",
    "        # For a few hours before and after business hours, there will be at least 4 phone \n",
    "        # agents per shift\n",
    "        elseif i > 20 && i < 28 || i > 2 && i < 6\n",
    "            @constraint(m, sum(y[i,j,d] + z[i,j,d] for j = 1:J) >= 4)\n",
    "        end\n",
    "    end\n",
    "end\n",
    "\n",
    "# SOS constraint: One agent cannot work multiple types of shifts at the same time\n",
    "for i = 1:I\n",
    "    for j = 1:J\n",
    "        for d = 1:D\n",
    "            @constraint(m, w[i,j,d] + x[i,j,d] + y[i,j,d] + z[i,j,d] <= 1)\n",
    "        end\n",
    "    end\n",
    "end\n",
    "\n",
    "# ----------------------- Objectives --------------------------\n",
    "\n",
    "# Minimize the overall cost and Maximize Employee Satisfaction to schedule the shifts\n",
    "@objective(m, Min, sum(C[1] * w[i,j,d] + C[2] * x[i,j,d] + C[3] * y[i,j,d] + C[4] * z[i,j,d] for i = 1:I, j = 1:J, d = 1:D) \n",
    "            - sum((w[i,j,d] + x[i,j,d] + y[i,j,d] + z[i,j,d]) * WP[i,j,d] for i = 1:I, j = 1:J, d = 1:D))\n",
    "\n",
    "status = solve(m)\n",
    "println(getobjectivevalue(m))"
   ]
  },
  {
   "cell_type": "markdown",
   "metadata": {},
   "source": [
    "## 4. Results and discussion ##\n",
    "\n",
    "We will display the results in tables (for the schedule itself) and graphs (to compare which agent has how many hours per week)."
   ]
  },
  {
   "cell_type": "markdown",
   "metadata": {},
   "source": [
    "### 4.1 Training Level Table ###\n",
    "First, we will show the different training levels of the agents"
   ]
  },
  {
   "cell_type": "code",
   "execution_count": 9,
   "metadata": {},
   "outputs": [
    {
     "name": "stdout",
     "output_type": "stream",
     "text": [
      "4×2 DataFrames.DataFrame\n",
      "│ Row │ Positions  │ Agents                                                                                       │\n",
      "├─────┼────────────┼──────────────────────────────────────────────────────────────────────────────────────────────┤\n",
      "│ 1   │ QA         │ [1, 2, 3, 4, 5, 7, 8, 9, 10, 11, 12, 13, 14, 15, 16, 17, 18, 19, 21, 22, 23, 24, 26, 35, 36] │\n",
      "│ 2   │ Chat/Email │ [6, 25, 27, 28, 29, 30, 31, 33, 40, 41, 42, 43, 44, 45, 46, 48, 49, 50, 55, 60]              │\n",
      "│ 3   │ Advanced   │ [20, 34, 37, 38, 39, 47, 51, 52, 53, 54, 56, 62]                                             │\n",
      "│ 4   │ General    │ [32, 57, 58, 59, 61, 63]                                                                     │"
     ]
    }
   ],
   "source": [
    "using DataFrames\n",
    "L1 = [j for j = 1:J if p[j] == 1]\n",
    "L2 = [j for j = 1:J if q[j] == 1]\n",
    "L3 = [j for j = 1:J if r[j] == 1]\n",
    "L4 = [j for j = 1:J if p[j] != 1 && q[j] != 1 && r[j] != 1]\n",
    "                                                \n",
    "Agents = []\n",
    "push!(Agents, L1)\n",
    "push!(Agents, L2)\n",
    "push!(Agents, L3)\n",
    "push!(Agents, L4)                                                \n",
    "Position = [\"QA\", \"Chat/Email\", \"Advanced\", \"General\"]\n",
    "                                                \n",
    "df = DataFrame(pos = Position, agnt = Agents)\n",
    "names!(df, [Symbol(\"Positions\"), Symbol(\"Agents\")])\n",
    "showall(df)"
   ]
  },
  {
   "cell_type": "markdown",
   "metadata": {},
   "source": [
    "### 4.2 Schedule Table Visualization###"
   ]
  },
  {
   "cell_type": "code",
   "execution_count": 211,
   "metadata": {
    "scrolled": true
   },
   "outputs": [
    {
     "name": "stdout",
     "output_type": "stream",
     "text": [
      "Sunday\n",
      "32×5 DataFrames.DataFrame\n",
      "│ Row │ Time  │ QA   │ Chat/Email │ Advanced │ General              │\n",
      "├─────┼───────┼──────┼────────────┼──────────┼──────────────────────┤\n",
      "│ 1   │ 7:00  │ [17] │ [5]        │ [39]     │ [60]                 │\n",
      "│ 2   │ 7:30  │ [5]  │ [60]       │ [39]     │ [17]                 │\n",
      "│ 3   │ 8:00  │ [17] │ [30]       │ [60]     │ [5, 39, 57]          │\n",
      "│ 4   │ 8:30  │ [5]  │ [30]       │ [4]      │ [17, 57, 60]         │\n",
      "│ 5   │ 9:00  │ [17] │ [5]        │ [4]      │ [26, 30, 57]         │\n",
      "│ 6   │ 9:30  │ [36] │ [23]       │ [38]     │ [5, 21, 25, 26, 30]  │\n",
      "│ 7   │ 10:00 │ [26] │ [45]       │ [38]     │ [2, 5, 21, 39, 63]   │\n",
      "│ 8   │ 10:30 │ [21] │ [45]       │ [26]     │ [2, 10, 11, 38, 39]  │\n",
      "│ 9   │ 11:00 │ [26] │ [10]       │ [13]     │ [2, 11, 17, 20, 45]  │\n",
      "│ 10  │ 11:30 │ [26] │ [21]       │ [17]     │ [2, 13, 28, 57, 63]  │\n",
      "│ 11  │ 12:00 │ [13] │ [28]       │ [20]     │ [2, 17, 21, 26, 57]  │\n",
      "│ 12  │ 12:30 │ [2]  │ [28]       │ [42]     │ [10, 16, 20, 23, 30] │\n",
      "│ 13  │ 13:00 │ [2]  │ [13]       │ [42]     │ [11, 30, 39, 50, 57] │\n",
      "│ 14  │ 13:30 │ [2]  │ [42]       │ [20]     │ [11, 30, 32, 39, 50] │\n",
      "│ 15  │ 14:00 │ [13] │ [45]       │ [39]     │ [10, 20, 32, 42, 50] │\n",
      "│ 16  │ 14:30 │ [19] │ [17]       │ [33]     │ [5, 29, 32, 39, 50]  │\n",
      "│ 17  │ 15:00 │ [7]  │ [28]       │ [5]      │ [17, 29, 32, 33, 50] │\n",
      "│ 18  │ 15:30 │ [17] │ [7]        │ [28]     │ [29, 32, 33, 58, 60] │\n",
      "│ 19  │ 16:00 │ [14] │ [28]       │ [7]      │ [3, 17, 29, 32, 33]  │\n",
      "│ 20  │ 16:30 │ [17] │ [7]        │ [28]     │ [9, 14, 19, 32, 50]  │\n",
      "│ 21  │ 17:00 │ [3]  │ [29]       │ [7]      │ [32, 39, 60]         │\n",
      "│ 22  │ 17:30 │ [9]  │ [33]       │ [3]      │ [7, 29, 32]          │\n",
      "│ 23  │ 18:00 │ [3]  │ [42]       │ [52]     │ [32, 49, 53]         │\n",
      "│ 24  │ 18:30 │ [9]  │ [33]       │ [29]     │ [12, 49, 50]         │\n",
      "│ 25  │ 19:00 │ [9]  │ [33]       │ [62]     │ [12, 38, 47]         │\n",
      "│ 26  │ 19:30 │ [12] │ [50]       │ [29]     │ [33, 38, 62]         │\n",
      "│ 27  │ 20:00 │ [14] │ [12]       │ [62]     │ [3, 50, 58]          │\n",
      "│ 28  │ 20:30 │ [14] │ [12]       │ [38]     │ [62]                 │\n",
      "│ 29  │ 21:00 │ [14] │ [33]       │ [62]     │ [52]                 │\n",
      "│ 30  │ 21:30 │ [14] │ [9]        │ [62]     │ [47]                 │\n",
      "│ 31  │ 22:00 │ [9]  │ [50]       │ [62]     │ [14]                 │\n",
      "│ 32  │ 22:30 │ [3]  │ [14]       │ [47]     │ [62]                 │\n",
      "\n",
      "Monday\n",
      "32×5 DataFrames.DataFrame\n",
      "│ Row │ Time  │ QA   │ Chat/Email │ Advanced │ General              │\n",
      "├─────┼───────┼──────┼────────────┼──────────┼──────────────────────┤\n",
      "│ 1   │ 7:00  │ [5]  │ [60]       │ [17]     │ [39]                 │\n",
      "│ 2   │ 7:30  │ [17] │ [60]       │ [39]     │ [5]                  │\n",
      "│ 3   │ 8:00  │ [17] │ [60]       │ [30]     │ [5, 39, 57]          │\n",
      "│ 4   │ 8:30  │ [4]  │ [60]       │ [30]     │ [5, 17, 57]          │\n",
      "│ 5   │ 9:00  │ [23] │ [30]       │ [17]     │ [5, 26, 57]          │\n",
      "│ 6   │ 9:30  │ [36] │ [21]       │ [5]      │ [23, 26, 30, 38, 44] │\n",
      "│ 7   │ 10:00 │ [11] │ [26]       │ [39]     │ [2, 5, 10, 38, 45]   │\n",
      "│ 8   │ 10:30 │ [2]  │ [45]       │ [39]     │ [10, 11, 21, 26, 38] │\n",
      "│ 9   │ 11:00 │ [2]  │ [45]       │ [21]     │ [10, 13, 17, 20, 26] │\n",
      "│ 10  │ 11:30 │ [26] │ [28]       │ [13]     │ [2, 17, 57, 61, 63]  │\n",
      "│ 11  │ 12:00 │ [17] │ [28]       │ [2]      │ [11, 13, 26, 45, 57] │\n",
      "│ 12  │ 12:30 │ [11] │ [30]       │ [28]     │ [2, 20, 23, 42, 57]  │\n",
      "│ 13  │ 13:00 │ [2]  │ [30]       │ [39]     │ [10, 11, 42, 50, 57] │\n",
      "│ 14  │ 13:30 │ [2]  │ [30]       │ [39]     │ [20, 32, 42, 50, 57] │\n",
      "│ 15  │ 14:00 │ [10] │ [50]       │ [20]     │ [6, 13, 32, 39, 42]  │\n",
      "│ 16  │ 14:30 │ [17] │ [33]       │ [29]     │ [5, 32, 42, 50, 59]  │\n",
      "│ 17  │ 15:00 │ [17] │ [29]       │ [7]      │ [5, 19, 28, 32, 33]  │\n",
      "│ 18  │ 15:30 │ [3]  │ [7]        │ [29]     │ [17, 28, 32, 33, 58] │\n",
      "│ 19  │ 16:00 │ [14] │ [28]       │ [7]      │ [3, 17, 29, 32, 49]  │\n",
      "│ 20  │ 16:30 │ [3]  │ [29]       │ [38]     │ [7, 14, 17, 28, 32]  │\n",
      "│ 21  │ 17:00 │ [7]  │ [50]       │ [39]     │ [29, 32, 33]         │\n",
      "│ 22  │ 17:30 │ [7]  │ [33]       │ [42]     │ [29, 32, 50]         │\n",
      "│ 23  │ 18:00 │ [9]  │ [50]       │ [47]     │ [3, 32, 53]          │\n",
      "│ 24  │ 18:30 │ [12] │ [50]       │ [60]     │ [29, 38, 59]         │\n",
      "│ 25  │ 19:00 │ [9]  │ [33]       │ [52]     │ [3, 12, 62]          │\n",
      "│ 26  │ 19:30 │ [12] │ [33]       │ [29]     │ [38, 58, 62]         │\n",
      "│ 27  │ 20:00 │ [12] │ [9]        │ [62]     │ [14, 33, 52]         │\n",
      "│ 28  │ 20:30 │ [12] │ [3]        │ [62]     │ [14]                 │\n",
      "│ 29  │ 21:00 │ [14] │ [9]        │ [62]     │ [47]                 │\n",
      "│ 30  │ 21:30 │ [14] │ [33]       │ [62]     │ [38]                 │\n",
      "│ 31  │ 22:00 │ [14] │ [3]        │ [47]     │ [62]                 │\n",
      "│ 32  │ 22:30 │ [9]  │ [14]       │ [47]     │ [62]                 │\n",
      "\n",
      "Tuesday\n",
      "32×5 DataFrames.DataFrame\n",
      "│ Row │ Time  │ QA   │ Chat/Email │ Advanced │ General              │\n",
      "├─────┼───────┼──────┼────────────┼──────────┼──────────────────────┤\n",
      "│ 1   │ 7:00  │ [4]  │ [46]       │ [8]      │ [39]                 │\n",
      "│ 2   │ 7:30  │ [18] │ [46]       │ [39]     │ [8]                  │\n",
      "│ 3   │ 8:00  │ [8]  │ [19]       │ [39]     │ [18, 35, 46]         │\n",
      "│ 4   │ 8:30  │ [19] │ [46]       │ [39]     │ [8, 29, 56]          │\n",
      "│ 5   │ 9:00  │ [7]  │ [8]        │ [23]     │ [19, 39, 46]         │\n",
      "│ 6   │ 9:30  │ [23] │ [29]       │ [19]     │ [7, 8, 18, 46, 54]   │\n",
      "│ 7   │ 10:00 │ [7]  │ [8]        │ [45]     │ [1, 18, 19, 46, 54]  │\n",
      "│ 8   │ 10:30 │ [19] │ [30]       │ [45]     │ [1, 8, 18, 23, 46]   │\n",
      "│ 9   │ 11:00 │ [13] │ [30]       │ [1]      │ [19, 20, 22, 37, 46] │\n",
      "│ 10  │ 11:30 │ [13] │ [8]        │ [19]     │ [1, 22, 30, 37, 46]  │\n",
      "│ 11  │ 12:00 │ [8]  │ [30]       │ [24]     │ [13, 22, 29, 37, 46] │\n",
      "│ 12  │ 12:30 │ [24] │ [8]        │ [38]     │ [22, 30, 45, 46, 61] │\n",
      "│ 13  │ 13:00 │ [24] │ [8]        │ [38]     │ [12, 21, 22, 35, 45] │\n",
      "│ 14  │ 13:30 │ [3]  │ [24]       │ [38]     │ [8, 21, 22, 27, 45]  │\n",
      "│ 15  │ 14:00 │ [12] │ [27]       │ [21]     │ [1, 3, 8, 22, 24]    │\n",
      "│ 16  │ 14:30 │ [21] │ [1]        │ [13]     │ [3, 8, 20, 22, 27]   │\n",
      "│ 17  │ 15:00 │ [21] │ [22]       │ [27]     │ [1, 8, 13, 20, 39]   │\n",
      "│ 18  │ 15:30 │ [9]  │ [21]       │ [13]     │ [1, 20, 22, 27, 39]  │\n",
      "│ 19  │ 16:00 │ [13] │ [7]        │ [40]     │ [20, 21, 27, 37, 61] │\n",
      "│ 20  │ 16:30 │ [7]  │ [40]       │ [13]     │ [11, 20, 27, 37, 61] │\n",
      "│ 21  │ 17:00 │ [7]  │ [40]       │ [11]     │ [13, 37, 61]         │\n",
      "│ 22  │ 17:30 │ [13] │ [11]       │ [40]     │ [7, 37, 61]          │\n",
      "│ 23  │ 18:00 │ [14] │ [40]       │ [37]     │ [41, 58, 61]         │\n",
      "│ 24  │ 18:30 │ [14] │ [40]       │ [41]     │ [39, 58, 63]         │\n",
      "│ 25  │ 19:00 │ [14] │ [41]       │ [60]     │ [40, 58, 63]         │\n",
      "│ 26  │ 19:30 │ [14] │ [40]       │ [41]     │ [58, 60, 63]         │\n",
      "│ 27  │ 20:00 │ [15] │ [41]       │ [34]     │ [14, 40, 58]         │\n",
      "│ 28  │ 20:30 │ [15] │ [40]       │ [34]     │ [58]                 │\n",
      "│ 29  │ 21:00 │ [15] │ [41]       │ [34]     │ [58]                 │\n",
      "│ 30  │ 21:30 │ [15] │ [41]       │ [34]     │ [58]                 │\n",
      "│ 31  │ 22:00 │ [15] │ [41]       │ [34]     │ [58]                 │\n",
      "│ 32  │ 22:30 │ [15] │ [41]       │ [34]     │ [58]                 │\n",
      "\n",
      "Wednesday\n",
      "32×5 DataFrames.DataFrame\n",
      "│ Row │ Time  │ QA   │ Chat/Email │ Advanced │ General              │\n",
      "├─────┼───────┼──────┼────────────┼──────────┼──────────────────────┤\n",
      "│ 1   │ 7:00  │ [19] │ [3]        │ [53]     │ [1]                  │\n",
      "│ 2   │ 7:30  │ [4]  │ [21]       │ [56]     │ [46]                 │\n",
      "│ 3   │ 8:00  │ [21] │ [36]       │ [44]     │ [4, 46, 56]          │\n",
      "│ 4   │ 8:30  │ [21] │ [46]       │ [36]     │ [4, 44, 48]          │\n",
      "│ 5   │ 9:00  │ [21] │ [48]       │ [23]     │ [4, 36, 46]          │\n",
      "│ 6   │ 9:30  │ [26] │ [36]       │ [23]     │ [4, 21, 44, 46, 48]  │\n",
      "│ 7   │ 10:00 │ [26] │ [23]       │ [38]     │ [5, 21, 36, 44, 48]  │\n",
      "│ 8   │ 10:30 │ [36] │ [44]       │ [56]     │ [10, 21, 37, 48, 63] │\n",
      "│ 9   │ 11:00 │ [10] │ [44]       │ [56]     │ [21, 36, 37, 48, 63] │\n",
      "│ 10  │ 11:30 │ [10] │ [36]       │ [6]      │ [20, 37, 56, 61, 63] │\n",
      "│ 11  │ 12:00 │ [10] │ [6]        │ [45]     │ [26, 36, 44, 48, 61] │\n",
      "│ 12  │ 12:30 │ [10] │ [48]       │ [6]      │ [16, 23, 36, 44, 61] │\n",
      "│ 13  │ 13:00 │ [16] │ [23]       │ [46]     │ [10, 11, 15, 35, 61] │\n",
      "│ 14  │ 13:30 │ [11] │ [23]       │ [35]     │ [6, 15, 36, 46, 48]  │\n"
     ]
    },
    {
     "name": "stdout",
     "output_type": "stream",
     "text": [
      "│ 15  │ 14:00 │ [23] │ [35]       │ [48]     │ [6, 11, 15, 36, 46]  │\n",
      "│ 16  │ 14:30 │ [11] │ [6]        │ [15]     │ [36, 41, 46, 48, 63] │\n",
      "│ 17  │ 15:00 │ [15] │ [41]       │ [46]     │ [11, 27, 37, 61, 63] │\n",
      "│ 18  │ 15:30 │ [7]  │ [41]       │ [31]     │ [11, 15, 25, 27, 63] │\n",
      "│ 19  │ 16:00 │ [15] │ [11]       │ [25]     │ [7, 27, 31, 41, 63]  │\n",
      "│ 20  │ 16:30 │ [14] │ [27]       │ [25]     │ [7, 11, 20, 31, 41]  │\n",
      "│ 21  │ 17:00 │ [14] │ [31]       │ [27]     │ [7, 20, 25]          │\n",
      "│ 22  │ 17:30 │ [11] │ [41]       │ [7]      │ [25, 31, 63]         │\n",
      "│ 23  │ 18:00 │ [11] │ [31]       │ [25]     │ [7, 16, 41]          │\n",
      "│ 24  │ 18:30 │ [16] │ [25]       │ [41]     │ [31, 37, 63]         │\n",
      "│ 25  │ 19:00 │ [12] │ [16]       │ [41]     │ [25, 31, 63]         │\n",
      "│ 26  │ 19:30 │ [12] │ [31]       │ [41]     │ [14, 16, 25]         │\n",
      "│ 27  │ 20:00 │ [14] │ [25]       │ [31]     │ [12, 20, 32]         │\n",
      "│ 28  │ 20:30 │ [12] │ [14]       │ [20]     │ [32]                 │\n",
      "│ 29  │ 21:00 │ [12] │ [14]       │ [34]     │ [32]                 │\n",
      "│ 30  │ 21:30 │ [14] │ [15]       │ [34]     │ [32]                 │\n",
      "│ 31  │ 22:00 │ [15] │ [14]       │ [34]     │ [32]                 │\n",
      "│ 32  │ 22:30 │ [15] │ [14]       │ [34]     │ [35]                 │\n",
      "\n",
      "Thursday\n",
      "32×5 DataFrames.DataFrame\n",
      "│ Row │ Time  │ QA   │ Chat/Email │ Advanced │ General              │\n",
      "├─────┼───────┼──────┼────────────┼──────────┼──────────────────────┤\n",
      "│ 1   │ 7:00  │ [4]  │ [44]       │ [46]     │ [51]                 │\n",
      "│ 2   │ 7:30  │ [4]  │ [44]       │ [46]     │ [51]                 │\n",
      "│ 3   │ 8:00  │ [5]  │ [55]       │ [46]     │ [43, 44, 51]         │\n",
      "│ 4   │ 8:30  │ [23] │ [44]       │ [43]     │ [46, 51, 55]         │\n",
      "│ 5   │ 9:00  │ [7]  │ [46]       │ [29]     │ [39, 43, 51]         │\n",
      "│ 6   │ 9:30  │ [23] │ [28]       │ [54]     │ [5, 7, 29, 36, 43]   │\n",
      "│ 7   │ 10:00 │ [7]  │ [1]        │ [29]     │ [5, 23, 43, 45, 61]  │\n",
      "│ 8   │ 10:30 │ [1]  │ [43]       │ [45]     │ [5, 23, 29, 54, 61]  │\n",
      "│ 9   │ 11:00 │ [1]  │ [43]       │ [45]     │ [13, 22, 29, 37, 56] │\n",
      "│ 10  │ 11:30 │ [1]  │ [46]       │ [22]     │ [13, 29, 37, 43, 45] │\n",
      "│ 11  │ 12:00 │ [12] │ [22]       │ [46]     │ [13, 29, 37, 43, 45] │\n",
      "│ 12  │ 12:30 │ [22] │ [44]       │ [38]     │ [18, 29, 43, 46, 61] │\n",
      "│ 13  │ 13:00 │ [22] │ [18]       │ [38]     │ [21, 29, 43, 44, 55] │\n",
      "│ 14  │ 13:30 │ [18] │ [21]       │ [44]     │ [22, 27, 38, 43, 55] │\n",
      "│ 15  │ 14:00 │ [23] │ [45]       │ [3]      │ [12, 21, 22, 24, 27] │\n",
      "│ 16  │ 14:30 │ [22] │ [13]       │ [27]     │ [3, 12, 21, 24, 59]  │\n",
      "│ 17  │ 15:00 │ [7]  │ [27]       │ [3]      │ [9, 21, 22, 34, 59]  │\n",
      "│ 18  │ 15:30 │ [7]  │ [21]       │ [27]     │ [9, 20, 22, 34, 39]  │\n",
      "│ 19  │ 16:00 │ [18] │ [60]       │ [39]     │ [20, 21, 27, 40, 61] │\n",
      "│ 20  │ 16:30 │ [11] │ [40]       │ [27]     │ [18, 20, 51, 60, 61] │\n",
      "│ 21  │ 17:00 │ [11] │ [40]       │ [31]     │ [18, 51, 61]         │\n",
      "│ 22  │ 17:30 │ [18] │ [11]       │ [40]     │ [31, 51, 61]         │\n",
      "│ 23  │ 18:00 │ [18] │ [31]       │ [40]     │ [51, 60, 61]         │\n",
      "│ 24  │ 18:30 │ [18] │ [31]       │ [51]     │ [32, 40, 60]         │\n",
      "│ 25  │ 19:00 │ [1]  │ [60]       │ [40]     │ [31, 32, 58]         │\n",
      "│ 26  │ 19:30 │ [15] │ [40]       │ [20]     │ [31, 32, 60]         │\n",
      "│ 27  │ 20:00 │ [15] │ [40]       │ [37]     │ [20, 58, 63]         │\n",
      "│ 28  │ 20:30 │ [15] │ [40]       │ [20]     │ [58]                 │\n",
      "│ 29  │ 21:00 │ [1]  │ [15]       │ [20]     │ [58]                 │\n",
      "│ 30  │ 21:30 │ [15] │ [1]        │ [37]     │ [32]                 │\n",
      "│ 31  │ 22:00 │ [15] │ [1]        │ [37]     │ [58]                 │\n",
      "│ 32  │ 22:30 │ [1]  │ [15]       │ [37]     │ [58]                 │\n",
      "\n",
      "Friday\n",
      "32×5 DataFrames.DataFrame\n",
      "│ Row │ Time  │ QA   │ Chat/Email │ Advanced │ General              │\n",
      "├─────┼───────┼──────┼────────────┼──────────┼──────────────────────┤\n",
      "│ 1   │ 7:00  │ [5]  │ [50]       │ [56]     │ [4]                  │\n",
      "│ 2   │ 7:30  │ [4]  │ [50]       │ [56]     │ [5]                  │\n",
      "│ 3   │ 8:00  │ [36] │ [50]       │ [4]      │ [5, 44, 56]          │\n",
      "│ 4   │ 8:30  │ [4]  │ [36]       │ [44]     │ [5, 50, 60]          │\n",
      "│ 5   │ 9:00  │ [36] │ [30]       │ [4]      │ [5, 44, 50]          │\n",
      "│ 6   │ 9:30  │ [5]  │ [44]       │ [50]     │ [32, 34, 36, 41, 49] │\n",
      "│ 7   │ 10:00 │ [1]  │ [25]       │ [2]      │ [5, 11, 26, 34, 50]  │\n",
      "│ 8   │ 10:30 │ [26] │ [50]       │ [25]     │ [1, 2, 11, 34, 55]   │\n",
      "│ 9   │ 11:00 │ [13] │ [50]       │ [51]     │ [11, 25, 34, 43, 55] │\n",
      "│ 10  │ 11:30 │ [11] │ [13]       │ [26]     │ [25, 34, 50, 51, 55] │\n",
      "│ 11  │ 12:00 │ [13] │ [50]       │ [25]     │ [16, 42, 48, 51, 55] │\n",
      "│ 12  │ 12:30 │ [13] │ [42]       │ [55]     │ [16, 25, 48, 50, 51] │\n",
      "│ 13  │ 13:00 │ [11] │ [55]       │ [42]     │ [13, 16, 25, 43, 48] │\n",
      "│ 14  │ 13:30 │ [13] │ [48]       │ [42]     │ [40, 43, 47, 55, 62] │\n",
      "│ 15  │ 14:00 │ [16] │ [48]       │ [47]     │ [13, 40, 42, 55, 62] │\n",
      "│ 16  │ 14:30 │ [35] │ [55]       │ [42]     │ [16, 40, 47, 48, 62] │\n",
      "│ 17  │ 15:00 │ [16] │ [42]       │ [48]     │ [35, 40, 47, 55, 62] │\n",
      "│ 18  │ 15:30 │ [16] │ [48]       │ [47]     │ [20, 28, 40, 55, 62] │\n",
      "│ 19  │ 16:00 │ [16] │ [28]       │ [47]     │ [20, 40, 42, 48, 51] │\n",
      "│ 20  │ 16:30 │ [16] │ [40]       │ [28]     │ [20, 42, 47, 51, 62] │\n",
      "│ 21  │ 17:00 │ [35] │ [16]       │ [34]     │ [28, 51, 62]         │\n",
      "│ 22  │ 17:30 │ [16] │ [28]       │ [51]     │ [34, 35, 62]         │\n",
      "│ 23  │ 18:00 │ [16] │ [28]       │ [51]     │ [34, 35, 56]         │\n",
      "│ 24  │ 18:30 │ [35] │ [16]       │ [34]     │ [28, 51, 56]         │\n",
      "│ 25  │ 19:00 │ [26] │ [35]       │ [9]      │ [34, 56, 63]         │\n",
      "│ 26  │ 19:30 │ [35] │ [29]       │ [56]     │ [26, 34, 63]         │\n",
      "│ 27  │ 20:00 │ [35] │ [9]        │ [52]     │ [26, 56, 63]         │\n",
      "│ 28  │ 20:30 │ [26] │ [35]       │ [52]     │ [56]                 │\n",
      "│ 29  │ 21:00 │ [35] │ [9]        │ [56]     │ [33]                 │\n",
      "│ 30  │ 21:30 │ [9]  │ [33]       │ [35]     │ [56]                 │\n",
      "│ 31  │ 22:00 │ [35] │ [9]        │ [53]     │ [56]                 │\n",
      "│ 32  │ 22:30 │ [35] │ [9]        │ [56]     │ [52]                 │\n",
      "\n",
      "Saturday\n",
      "32×5 DataFrames.DataFrame\n",
      "│ Row │ Time  │ QA   │ Chat/Email │ Advanced │ General              │\n",
      "├─────┼───────┼──────┼────────────┼──────────┼──────────────────────┤\n",
      "│ 1   │ 7:00  │ [8]  │ [24]       │ [54]     │ [47]                 │\n",
      "│ 2   │ 7:30  │ [8]  │ [24]       │ [54]     │ [47]                 │\n",
      "│ 3   │ 8:00  │ [24] │ [8]        │ [54]     │ [6, 47, 59]          │\n",
      "│ 4   │ 8:30  │ [8]  │ [6]        │ [47]     │ [53, 54, 59]         │\n",
      "│ 5   │ 9:00  │ [24] │ [6]        │ [47]     │ [8, 54, 59]          │\n",
      "│ 6   │ 9:30  │ [10] │ [24]       │ [53]     │ [6, 8, 47, 54, 59]   │\n",
      "│ 7   │ 10:00 │ [19] │ [18]       │ [47]     │ [6, 8, 53, 54, 59]   │\n",
      "│ 8   │ 10:30 │ [18] │ [19]       │ [54]     │ [6, 8, 25, 47, 59]   │\n",
      "│ 9   │ 11:00 │ [18] │ [19]       │ [25]     │ [6, 8, 47, 49, 54]   │\n",
      "│ 10  │ 11:30 │ [19] │ [25]       │ [54]     │ [6, 8, 49, 53, 57]   │\n",
      "│ 11  │ 12:00 │ [8]  │ [49]       │ [47]     │ [6, 19, 25, 54, 59]  │\n",
      "│ 12  │ 12:30 │ [18] │ [55]       │ [25]     │ [6, 19, 49, 54, 59]  │\n",
      "│ 13  │ 13:00 │ [19] │ [18]       │ [49]     │ [6, 25, 54, 55, 59]  │\n",
      "│ 14  │ 13:30 │ [19] │ [31]       │ [55]     │ [6, 18, 25, 49, 54]  │\n",
      "│ 15  │ 14:00 │ [18] │ [6]        │ [25]     │ [47, 49, 54, 55, 59] │\n",
      "│ 16  │ 14:30 │ [18] │ [31]       │ [53]     │ [47, 49, 54, 55, 59] │\n",
      "│ 17  │ 15:00 │ [4]  │ [31]       │ [47]     │ [18, 49, 55, 57, 59] │\n",
      "│ 18  │ 15:30 │ [18] │ [55]       │ [47]     │ [2, 31, 49, 57, 59]  │\n",
      "│ 19  │ 16:00 │ [18] │ [49]       │ [31]     │ [27, 47, 55, 57, 59] │\n",
      "│ 20  │ 16:30 │ [18] │ [55]       │ [31]     │ [47, 49, 52, 53, 59] │\n",
      "│ 21  │ 17:00 │ [18] │ [31]       │ [49]     │ [52, 53, 59]         │\n",
      "│ 22  │ 17:30 │ [24] │ [31]       │ [18]     │ [49, 52, 57]         │\n",
      "│ 23  │ 18:00 │ [2]  │ [18]       │ [49]     │ [31, 52, 57]         │\n",
      "│ 24  │ 18:30 │ [24] │ [18]       │ [52]     │ [31, 49, 53]         │\n",
      "│ 25  │ 19:00 │ [24] │ [31]       │ [53]     │ [10, 43, 52]         │\n",
      "│ 26  │ 19:30 │ [24] │ [31]       │ [52]     │ [4, 43, 53]          │\n",
      "│ 27  │ 20:00 │ [24] │ [43]       │ [10]     │ [31, 52, 53]         │\n",
      "│ 28  │ 20:30 │ [4]  │ [31]       │ [53]     │ [52]                 │\n"
     ]
    },
    {
     "name": "stdout",
     "output_type": "stream",
     "text": [
      "│ 29  │ 21:00 │ [4]  │ [43]       │ [52]     │ [53]                 │\n",
      "│ 30  │ 21:30 │ [10] │ [24]       │ [52]     │ [53]                 │\n",
      "│ 31  │ 22:00 │ [10] │ [24]       │ [52]     │ [53]                 │\n",
      "│ 32  │ 22:30 │ [24] │ [43]       │ [53]     │ [52]                 │\n",
      "\n"
     ]
    }
   ],
   "source": [
    "using DataFrames\n",
    "Time = [\"7:00\", \"7:30\", \"8:00\", \"8:30\", \"9:00\", \"9:30\", \"10:00\", \"10:30\", \"11:00\", \"11:30\", \"12:00\", \"12:30\", \"13:00\",\n",
    "        \"13:30\", \"14:00\", \"14:30\", \"15:00\", \"15:30\", \"16:00\", \"16:30\", \"17:00\", \"17:30\", \"18:00\", \"18:30\", \"19:00\", \n",
    "        \"19:30\", \"20:00\", \"20:30\", \"21:00\", \"21:30\", \"22:00\", \"22:30\"]\n",
    "Days = [\"Sunday\", \"Monday\", \"Tuesday\", \"Wednesday\", \"Thursday\", \"Friday\", \"Saturday\"] \n",
    "\n",
    "# Write schedule in a table\n",
    "for d = 1:D\n",
    "    QA = []\n",
    "    Chat = []\n",
    "    Advanced = []\n",
    "    General = []\n",
    "\n",
    "    # Find the employees that are scheduled for each shift\n",
    "    for i = 1:I\n",
    "        push!(QA,[j for j = 1:J if getvalue(w[i,j,d]) == 1])\n",
    "        push!(Chat,[j for j = 1:J if getvalue(x[i,j,d]) == 1])\n",
    "        push!(Advanced, [j for j = 1:J if getvalue(y[i,j,d]) == 1])\n",
    "        push!(General, [j for j = 1:J if getvalue(z[i,j,d]) == 1])\n",
    "    end\n",
    "    \n",
    "    println(Days[d])\n",
    "    df = DataFrame(time = Time, level1 = QA, level2 = Chat, level3 = Advanced, level4 = General)\n",
    "    names!(df, [Symbol(\"Time\"), Symbol(\"QA\"), Symbol(\"Chat/Email\"), Symbol(\"Advanced\"), Symbol(\"General\")])\n",
    "    showall(df)                                                    \n",
    "    println()\n",
    "    println()\n",
    "end"
   ]
  },
  {
   "cell_type": "markdown",
   "metadata": {},
   "source": [
    "### 4.3 Weekly Work Hours per Agent ###\n",
    "\n"
   ]
  },
  {
   "cell_type": "code",
   "execution_count": 170,
   "metadata": {},
   "outputs": [
    {
     "data": {
      "image/png": "[encoded data removed]",
      "text/plain": [
       "PyPlot.Figure(PyObject <Figure size 1000x1000 with 1 Axes>)"
      ]
     },
     "metadata": {},
     "output_type": "display_data"
    },
    {
     "data": {
      "text/plain": [
       "PyObject Text(24.000000000000007, 0.5, 'Work Hours per Week')"
      ]
     },
     "execution_count": 170,
     "metadata": {},
     "output_type": "execute_result"
    }
   ],
   "source": [
    "using PyPlot\n",
    "\n",
    "numAgents = []\n",
    "for j = 1:J\n",
    "    push!(numAgents, j)\n",
    "end\n",
    "\n",
    "# Calculate the total working hours per week for each agent\n",
    "hoursPerWeek = []\n",
    "for j = 1:J\n",
    "   numHours = sum(getvalue(w[i,j,d]) + getvalue(x[i,j,d]) + getvalue(y[i,j,d]) + getvalue(z[i,j,d]) for i = 1:I, d = 1:D) / 2\n",
    "   push!(hoursPerWeek, numHours)\n",
    "end\n",
    "\n",
    "fig = figure(\"pyplot_barplot\",figsize=(10,10))\n",
    "subplot(211)\n",
    "b = bar(numAgents,hoursPerWeek,color = \"indigo\", align=\"center\",alpha=0.4)\n",
    "axis(\"tight\")\n",
    "title(\"Weekly Work Hours of Agents\")\n",
    "grid(\"on\")\n",
    "xlabel(\"Agents\")\n",
    "ylabel(\"Work Hours per Week\")"
   ]
  },
  {
   "cell_type": "markdown",
   "metadata": {},
   "source": [
    "### 4.4 Ratio of Shift Type per Week ###\n",
    "\n",
    "We will represent this information in a pie chart. Since there are too many employees to display all the graphs, I decided to limit graphing the shift ratio information to two agents; Agent 15 and Agent 46. The reason why I chose these two agents in particular is that the two represents the two trends that occured during scheduling. Agent 15 is a Level 1 agent (QA), while Agent 46 is a Level 2 Agent (Chat/Email)."
   ]
  },
  {
   "cell_type": "code",
   "execution_count": 182,
   "metadata": {},
   "outputs": [
    {
     "data": {
      "text/plain": [
       "shiftRatio (generic function with 1 method)"
      ]
     },
     "execution_count": 182,
     "metadata": {},
     "output_type": "execute_result"
    }
   ],
   "source": [
    "using PyPlot\n",
    "function shiftRatio(j)\n",
    "    labels = [\"QA\";\"Chat/Email\";\"Advanced\";\"General\"]\n",
    "    colors = [\"crimson\";\"yellowgreen\";\"Yellow\";\"lightblue\"]\n",
    "    sizes = [sum(getvalue(w[i,j,d]) for i=1:I, d=1:D); sum(getvalue(x[i,j,d]) for i=1:I, d=1:D);\n",
    "                sum(getvalue(y[i,j,d]) for i=1:I, d=1:D); sum(getvalue(z[i,j,d]) for i=1:I, d=1:D)]\n",
    "    explode = zeros(length(sizes))\n",
    "    font = Dict(\"fontname\"=>\"Sans\",\"weight\"=>\"semibold\");\n",
    "\n",
    "    p = pie(sizes, labels=labels, shadow=true, startangle=90, colors=colors, autopct=\"%1.1f%%\", textprops=font)\n",
    "    axis(\"equal\")\n",
    "    title(string(\"Ratio of shift types per week for Agent \", j))\n",
    "    return\n",
    "end"
   ]
  },
  {
   "cell_type": "code",
   "execution_count": 206,
   "metadata": {},
   "outputs": [
    {
     "data": {
      "image/png": "[encoded data removed]",
      "text/plain": [
       "PyPlot.Figure(PyObject <Figure size 640x480 with 2 Axes>)"
      ]
     },
     "metadata": {},
     "output_type": "display_data"
    }
   ],
   "source": [
    "subplot(211)\n",
    "shiftRatio(15)\n",
    "subplot(212)\n",
    "shiftRatio(46)"
   ]
  },
  {
   "cell_type": "markdown",
   "metadata": {},
   "source": [
    "### 4.5 Total Cost per Week ###\n",
    "The total cost that will be paid to the employees"
   ]
  },
  {
   "cell_type": "code",
   "execution_count": 213,
   "metadata": {},
   "outputs": [
    {
     "data": {
      "image/png": "[encoded data removed]",
      "text/plain": [
       "PyPlot.Figure(PyObject <Figure size 640x480 with 1 Axes>)"
      ]
     },
     "metadata": {},
     "output_type": "display_data"
    },
    {
     "name": "stdout",
     "output_type": "stream",
     "text": [
      "Total cost to run Help Desk in optimal schedule: $14924.0\n"
     ]
    }
   ],
   "source": [
    "QAPay = C[1] * sum(getvalue(w[i,j,d]) for i = 1:I, j = 1:J, d = 1:D);\n",
    "ChatPay = C[2] * sum(getvalue(x[i,j,d]) for i = 1:I, j = 1:J, d = 1:D);\n",
    "AdvPay = C[3] * sum(getvalue(y[i,j,d]) for i = 1:I, j = 1:J, d = 1:D);\n",
    "GenPay =  C[4] * sum(getvalue(z[i,j,d]) for i = 1:I, j = 1:J, d = 1:D);\n",
    "\n",
    "x_axis = []\n",
    "push!(x_axis,\"QA\")\n",
    "push!(x_axis,\"Chat/Email\")\n",
    "push!(x_axis,\"Advanced\")\n",
    "push!(x_axis,\"General\")\n",
    "\n",
    "y_axis = []\n",
    "push!(y_axis,QAPay)\n",
    "push!(y_axis,ChatPay)\n",
    "push!(y_axis,AdvPay)\n",
    "push!(y_axis,GenPay)\n",
    "\n",
    "subplot(212)\n",
    "b = barh(x_axis,y_axis,color=\"darkblue\",align=\"center\",alpha=0.4)\n",
    "axis(\"tight\")\n",
    "title(\"Total Cost per Week per Shift Type\")\n",
    "grid(\"on\")\n",
    "xlabel(\"Cost per week (\\$)\")\n",
    "ylabel(\"Shift Type\")\n",
    "\n",
    "TotCost = QAPay + ChatPay + AdvPay + GenPay;\n",
    "println(\"Total cost to run Help Desk in optimal schedule: \\$\", TotCost)"
   ]
  },
  {
   "cell_type": "markdown",
   "metadata": {},
   "source": [
    "### 4.6 Limitations ###"
   ]
  },
  {
   "cell_type": "markdown",
   "metadata": {},
   "source": [
    "## 5. Conclusion ##\n",
    "\n",
    "Summarize your findings and your results, and talk about at least one possible future direction; something that might be interesting to pursue as a follow-up to your project.\n",
    "\n",
    "If I had to repeat this project again, I would try to take in account of the demands for each shift. I was not able to collect the data for the number of calls per shift. The call traffic can differ a lot between the time and day, for example Business Hours (9 to 5) have more calls than other hours, Weekdays more than Weekends and so on). If there are too few employees scheduled in a busy shift the Help Desk will get overwhelmed, and will lead to dissatisfaction among employees. \n",
    "\n",
    "Thus, what I would do is to calculate the average amount of calls received in a particular shift and adjust the demand so that the amount of calls per employee would be roughly similar across the board. \n",
    "\n",
    "Furthermore, in the real Help Desk certain agents are Team Leads, who have another type of shift called Project Hours, which allows them to do additional work for the Help Desk (such as developing internal applications, writing technical documentation, training new agents or even scheduling shifts). They are supposed to be 50% of the shifts for a week. If I had the data for call demands, I would add this feature and try to schedule the shifts when there are less calls (so the Help Desk will be impacted less)."
   ]
  },
  {
   "cell_type": "code",
   "execution_count": null,
   "metadata": {},
   "outputs": [],
   "source": []
  }
 ],
 "metadata": {
  "kernelspec": {
   "display_name": "Julia 0.6.4",
   "language": "julia",
   "name": "julia-0.6"
  },
  "language_info": {
   "file_extension": ".jl",
   "mimetype": "application/julia",
   "name": "julia",
   "version": "0.6.4"
  }
 },
 "nbformat": 4,
 "nbformat_minor": 2
}
